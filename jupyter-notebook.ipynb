{
 "cells": [
  {
   "cell_type": "markdown",
   "metadata": {},
   "source": [
    "# ProjectPasta\n",
    "This is an exercise on me trying to learn how to do good graphs in python using mathplotlib library\n",
    "I'm taking pastas cooking time as data for this\n",
    "\n",
    "## Installing packages"
   ]
  },
  {
   "cell_type": "code",
   "execution_count": 11,
   "metadata": {},
   "outputs": [],
   "source": [
    "import os\n",
    "try:        \n",
    "    import pandas as pd\n",
    "except ImportError as e: #if 'pandas' not in packages:\n",
    "    os.system('pip install pandas')\n",
    "    import pandas as pd\n",
    "try:        \n",
    "    import xlrd\n",
    "except ImportError as e: #if 'xlrd' not in packages:\n",
    "    os.system('pip install xlrd')\n",
    "    import xlrd\n",
    "try:\n",
    "    import matplotlib\n",
    "    import matplotlib.pyplot as plt\n",
    "    matplotlib.use('TkAgg')\n",
    "except ImportError as e: #if 'matplotlib' not in packages or dependency failed:\n",
    "    os.system('pip install matplotlib')\n",
    "    import matplotlib\n",
    "    import matplotlib.pyplot as plt\n",
    "    matplotlib.use('TkAgg')"
   ]
  },
  {
   "cell_type": "code",
   "execution_count": 12,
   "metadata": {},
   "outputs": [],
   "source": [
    "##Funtion that take dataframe(s) and plot graph\n",
    "def graphs(dataframe): \n",
    "    title = dataframe.columns[0]\n",
    "    data = dataframe.drop(dataframe.columns[0], axis=1)\n",
    "    value = {} #dictionary\n",
    "    #value[x] = y;#assign key = x = time : value = y = cooking grade\n",
    "    x_axis = []\n",
    "    y_axis = []\n",
    "    for y in range(0, len(data.columns)):\n",
    "        for x in data.loc[ : , data.columns[y] ]:\n",
    "            x_axis.append(str(x)) #apparently datetime type is unsupported; TypeError: float() argument must be a string or a number, not 'datetime.time'\n",
    "            y_axis.append(y)\n",
    "            #TODO check for empty value and sort dictionary\n",
    "            ###################\n",
    "    for k, v in value.items(): #debug\n",
    "        print(k, v)\n",
    "    plt.plot(x_axis, y_axis)\n",
    "    plt.title = title\n",
    "    plt.show()"
   ]
  },
  {
   "cell_type": "markdown",
   "metadata": {},
   "source": [
    "main function"
   ]
  },
  {
   "cell_type": "code",
   "execution_count": 13,
   "metadata": {},
   "outputs": [],
   "source": [
    "def main():\n",
    "    df1 = pd.read_excel('ProjectPasta.xls', sheet_name=\"Foglio1\")\n",
    "    df2 = pd.read_excel('ProjectPasta.xls', sheet_name=\"Foglio2\")\n",
    "    df3 = pd.read_excel('ProjectPasta.xls', sheet_name=\"Foglio3\")\n",
    " \n",
    "    graphs(df1)"
   ]
  },
  {
   "cell_type": "code",
   "execution_count": 4,
   "metadata": {},
   "outputs": [],
   "source": [
    "#run main\n",
    "if __name__ == \"__main__\":\n",
    "    main()"
   ]
  },
  {
   "cell_type": "markdown",
   "metadata": {},
   "source": [
    "test graphs"
   ]
  },
  {
   "cell_type": "code",
   "execution_count": 14,
   "metadata": {},
   "outputs": [
    {
     "ename": "ModuleNotFoundError",
     "evalue": "No module named 'cairo'",
     "output_type": "error",
     "traceback": [
      "\u001b[1;31m---------------------------------------------------------------------------\u001b[0m",
      "\u001b[1;31mModuleNotFoundError\u001b[0m                       Traceback (most recent call last)",
      "\u001b[1;32m<ipython-input-14-8bdd3b07102a>\u001b[0m in \u001b[0;36m<module>\u001b[1;34m\u001b[0m\n\u001b[0;32m      1\u001b[0m \u001b[0mos\u001b[0m\u001b[1;33m.\u001b[0m\u001b[0msystem\u001b[0m\u001b[1;33m(\u001b[0m\u001b[1;34m'pip install cairocffi'\u001b[0m\u001b[1;33m)\u001b[0m\u001b[1;33m\u001b[0m\u001b[1;33m\u001b[0m\u001b[0m\n\u001b[1;32m----> 2\u001b[1;33m \u001b[1;32mimport\u001b[0m \u001b[0mcairo\u001b[0m\u001b[1;33m\u001b[0m\u001b[1;33m\u001b[0m\u001b[0m\n\u001b[0m\u001b[0;32m      3\u001b[0m \u001b[0mmatplotlib\u001b[0m\u001b[1;33m.\u001b[0m\u001b[0muse\u001b[0m\u001b[1;33m(\u001b[0m\u001b[1;34m\"Qt4Cairo\"\u001b[0m\u001b[1;33m)\u001b[0m\u001b[1;33m\u001b[0m\u001b[1;33m\u001b[0m\u001b[0m\n\u001b[0;32m      4\u001b[0m \u001b[1;33m\u001b[0m\u001b[0m\n\u001b[0;32m      5\u001b[0m \u001b[0mx\u001b[0m \u001b[1;33m=\u001b[0m \u001b[1;33m[\u001b[0m\u001b[1;36m1\u001b[0m\u001b[1;33m,\u001b[0m \u001b[1;36m2\u001b[0m\u001b[1;33m,\u001b[0m \u001b[1;36m3\u001b[0m\u001b[1;33m]\u001b[0m\u001b[1;33m\u001b[0m\u001b[1;33m\u001b[0m\u001b[0m\n",
      "\u001b[1;31mModuleNotFoundError\u001b[0m: No module named 'cairo'"
     ]
    }
   ],
   "source": [
    "x = [1, 2, 3]\n",
    "y = [2, 4, 6]\n",
    "plt.plot(x, y) # this make the program crash\n",
    "#plt.show"
   ]
  },
  {
   "cell_type": "code",
   "execution_count": null,
   "metadata": {},
   "outputs": [],
   "source": []
  }
 ],
 "metadata": {
  "kernelspec": {
   "display_name": "Python 3",
   "language": "python",
   "name": "python3"
  },
  "language_info": {
   "codemirror_mode": {
    "name": "ipython",
    "version": 3
   },
   "file_extension": ".py",
   "mimetype": "text/x-python",
   "name": "python",
   "nbconvert_exporter": "python",
   "pygments_lexer": "ipython3",
   "version": "3.8.5"
  }
 },
 "nbformat": 4,
 "nbformat_minor": 4
}
